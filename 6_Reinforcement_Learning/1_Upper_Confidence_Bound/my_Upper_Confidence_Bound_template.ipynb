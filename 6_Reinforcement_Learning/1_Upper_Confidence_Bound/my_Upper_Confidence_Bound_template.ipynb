{
 "cells": [
  {
   "cell_type": "markdown",
   "metadata": {},
   "source": [
    "# Upper Confidence Bound template"
   ]
  },
  {
   "cell_type": "markdown",
   "metadata": {},
   "source": [
    "## ==== import the dateset ========"
   ]
  },
  {
   "cell_type": "code",
   "execution_count": 41,
   "metadata": {
    "collapsed": true
   },
   "outputs": [],
   "source": [
    "import pandas as pd\n",
    "dataset = pd.read_csv('Ads_CTR_Optimisation.csv')"
   ]
  },
  {
   "cell_type": "markdown",
   "metadata": {},
   "source": [
    "## ======== How Random Selection performs? ========"
   ]
  },
  {
   "cell_type": "markdown",
   "metadata": {},
   "source": [
    "### ====== Implement Random Selection ======="
   ]
  },
  {
   "cell_type": "code",
   "execution_count": 42,
   "metadata": {
    "collapsed": false
   },
   "outputs": [
    {
     "name": "stdout",
     "output_type": "stream",
     "text": [
      "Random Selection gets reward: 1261\n"
     ]
    }
   ],
   "source": [
    "import random\n",
    "num_ads = 10\n",
    "ads_selected = []\n",
    "total_reward = 0\n",
    "for i in range(dataset.shape[0]):\n",
    "    ad = random.randrange(num_ads)\n",
    "    ads_selected.append(ad)\n",
    "    total_reward += dataset.iloc[i, ad]\n",
    "print ('Random Selection gets reward:', total_reward)"
   ]
  },
  {
   "cell_type": "markdown",
   "metadata": {},
   "source": [
    "### ======= Visualize ========"
   ]
  },
  {
   "cell_type": "code",
   "execution_count": 43,
   "metadata": {
    "collapsed": false
   },
   "outputs": [
    {
     "data": {
      "image/png": "[encoded data removed]",
      "text/plain": [
       "<Figure size 432x288 with 1 Axes>"
      ]
     },
     "metadata": {},
     "output_type": "display_data"
    }
   ],
   "source": [
    "import matplotlib.pyplot as plt\n",
    "plt.hist(ads_selected)\n",
    "plt.title('Random Selection')\n",
    "plt.xlabel('Ads')\n",
    "plt.ylabel('Number of times each ad was selected')\n",
    "plt.show()"
   ]
  },
  {
   "cell_type": "markdown",
   "metadata": {},
   "source": [
    "## ======= How UCB performs? ========"
   ]
  },
  {
   "cell_type": "markdown",
   "metadata": {},
   "source": [
    "### ===== Implement UCB ======"
   ]
  },
  {
   "cell_type": "code",
   "execution_count": 44,
   "metadata": {
    "collapsed": false
   },
   "outputs": [
    {
     "name": "stdout",
     "output_type": "stream",
     "text": [
      "UCB gets reward: 2178\n"
     ]
    }
   ],
   "source": [
    "import math\n",
    "ads_selected = [0]*num_ads\n",
    "rewards = [0]*num_ads\n",
    "upper_bound = [0] *num_ads\n",
    "ads = []\n",
    "### To avoid zero occurrence of the ads         \n",
    "for i in range(num_ads):\n",
    "    ads_selected[i] += 1\n",
    "    rewards[i] += dataset.iloc[i, i]\n",
    "    ads.append(i)\n",
    "### Now UCB algorithm\n",
    "for each_round in range(num_ads, dataset.shape[0]):\n",
    "    for i in range(num_ads):\n",
    "        upper_bound[i] = rewards[i]*1.0/ads_selected[i] + math.sqrt(1.5*math.log(each_round+1)/ads_selected[i])\n",
    "    \n",
    "    ad = upper_bound.index(max(upper_bound))\n",
    "    ads_selected[ad] += 1\n",
    "    rewards[ad] += dataset.iloc[each_round, ad]\n",
    "    ads.append(ad) \n",
    "print ('UCB gets reward:', sum(rewards))"
   ]
  },
  {
   "cell_type": "markdown",
   "metadata": {},
   "source": [
    "### ======= Visualize ========"
   ]
  },
  {
   "cell_type": "code",
   "execution_count": 48,
   "metadata": {
    "collapsed": false,
    "scrolled": true
   },
   "outputs": [
    {
     "data": {
      "image/png": "[encoded data removed]",
      "text/plain": [
       "<Figure size 432x288 with 1 Axes>"
      ]
     },
     "metadata": {},
     "output_type": "display_data"
    }
   ],
   "source": [
    "import numpy as np\n",
    "plt.hist(ads, bins = np.arange(0, 11, 1), color = 'blue')\n",
    "plt.xticks(np.arange(0, 11), [str(i) for i in range(1, 12)])\n",
    "plt.title('Upper Confidence Bound')\n",
    "plt.xlabel('Ads')\n",
    "plt.ylabel('Number of times each ad was selected')\n",
    "plt.show()"
   ]
  }
 ],
 "metadata": {
  "anaconda-cloud": {},
  "kernelspec": {
   "display_name": "Python [default]",
   "language": "python",
   "name": "python3"
  },
  "language_info": {
   "codemirror_mode": {
    "name": "ipython",
    "version": 3
   },
   "file_extension": ".py",
   "mimetype": "text/x-python",
   "name": "python",
   "nbconvert_exporter": "python",
   "pygments_lexer": "ipython3",
   "version": "3.5.6"
  }
 },
 "nbformat": 4,
 "nbformat_minor": 1
}
